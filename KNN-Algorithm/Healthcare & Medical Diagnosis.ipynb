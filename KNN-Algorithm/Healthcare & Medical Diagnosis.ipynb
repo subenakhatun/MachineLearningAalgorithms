{
 "cells": [
  {
   "cell_type": "markdown",
   "metadata": {},
   "source": [
    "## KNN for Healthcare & Medical Diagnosis:"
   ]
  },
  {
   "cell_type": "markdown",
   "metadata": {},
   "source": [
    "Steps:<br>\n",
    "1. Import necessary libraries<br>\n",
    "2. Load and explore the dataset<br>\n",
    "3. Handle missing values (if any) & check data statistics<br>\n",
    "4. Split data into training and testing sets<br>\n",
    "5. Normalize features for better KNN performance<br>\n",
    "6. Train KNN model with an initial K value<br>\n",
    "7. Make predictions on test data<br>\n",
    "8. Evaluate model performance using accuracy, confusion matrix, and classification report<br>\n",
    "9. Optimize K value by testing different K values<br>\n",
    "10. Retrain the model with the best K value for improved accuracy<br>"
   ]
  },
  {
   "cell_type": "markdown",
   "metadata": {},
   "source": [
    "### 1. Import necessary libraries"
   ]
  },
  {
   "cell_type": "code",
   "execution_count": 2,
   "metadata": {},
   "outputs": [],
   "source": [
    "import pandas as pd\n",
    "import numpy as np\n",
    "import matplotlib.pyplot as plt\n",
    "import seaborn as sns\n",
    "\n",
    "# train test seperation \n",
    "from sklearn.model_selection import train_test_split\n",
    "# KNN classificationa nd regresiion\n",
    "from sklearn.neighbors import KNeighborsClassifier, KNeighborsRegressor\n",
    "\n",
    "# Accuracy, confusion matrics check\n",
    "from sklearn.metrics import accuracy_score, confusion_matrix\n",
    "\n",
    "# normalization and stadardization\n",
    "from sklearn.preprocessing import StandardScaler"
   ]
  },
  {
   "cell_type": "code",
   "execution_count": null,
   "metadata": {},
   "outputs": [],
   "source": []
  }
 ],
 "metadata": {
  "kernelspec": {
   "display_name": "Python 3",
   "language": "python",
   "name": "python3"
  },
  "language_info": {
   "codemirror_mode": {
    "name": "ipython",
    "version": 3
   },
   "file_extension": ".py",
   "mimetype": "text/x-python",
   "name": "python",
   "nbconvert_exporter": "python",
   "pygments_lexer": "ipython3",
   "version": "3.12.1"
  }
 },
 "nbformat": 4,
 "nbformat_minor": 2
}
