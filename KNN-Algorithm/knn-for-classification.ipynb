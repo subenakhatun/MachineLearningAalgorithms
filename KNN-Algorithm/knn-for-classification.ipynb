{
 "cells": [
  {
   "cell_type": "markdown",
   "metadata": {},
   "source": [
    "## KNN-Classification\n",
    "\n",
    "here we make a dataset then we apply knn algorithm on this dataset.<br>\n",
    "steps of KNN classification:<br>\n",
    "1. Import required libarires<br>\n",
    "2. Load or explore or create a dataset<br>\n",
    "3. remove unncessary coulmns or fretures (EDA)<br>\n",
    "4. Split data into train test <br>\n",
    "5. Do feature scaling (if necessary) <br>\n",
    "6. Choosing the Optimal Value of K <br>\n",
    "7. Make prediction <br>\n",
    "8. Evaluate the Model <br>\n"
   ]
  },
  {
   "cell_type": "markdown",
   "metadata": {},
   "source": [
    "### Step-01: import necessary libraries"
   ]
  },
  {
   "cell_type": "code",
   "execution_count": null,
   "metadata": {
    "vscode": {
     "languageId": "plaintext"
    }
   },
   "outputs": [],
   "source": []
  }
 ],
 "metadata": {
  "language_info": {
   "name": "python"
  }
 },
 "nbformat": 4,
 "nbformat_minor": 2
}
