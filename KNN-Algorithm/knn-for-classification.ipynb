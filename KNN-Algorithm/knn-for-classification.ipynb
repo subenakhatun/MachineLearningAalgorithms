{
 "cells": [
  {
   "cell_type": "markdown",
   "metadata": {},
   "source": [
    "## KNN-Classification\n",
    "\n",
    "here we make a dataset then we apply knn algorithm on this dataset.<br>\n",
    "steps of KNN classification:<br>\n",
    "1. Import required libarires<br>\n",
    "2. Load or explore or create a dataset<br>\n",
    "3. remove unncessary coulmns or fretures (EDA)<br>\n",
    "4. Split data into train test <br>\n",
    "5. Do feature scaling (if necessary) <br>\n",
    "6. Choosing the Optimal Value of K <br>\n",
    "7. Make prediction <br>\n",
    "8. Evaluate the Model <br>\n"
   ]
  },
  {
   "cell_type": "markdown",
   "metadata": {},
   "source": [
    "### Step-01: import necessary libraries"
   ]
  },
  {
   "cell_type": "code",
   "execution_count": 1,
   "metadata": {},
   "outputs": [],
   "source": [
    "import numpy as np\n",
    "import pandas as pd\n",
    "import matplotlib.pyplot as plt\n",
    "import seaborn as sns\n",
    "from sklearn.metrics import accuracy_score, confusion_matrix, classification_report\n",
    "from sklearn.preprocessing import StandardScaler\n",
    "from sklearn.model_selection import train_test_split\n",
    "from sklearn.neighbors import KNeighborsClassifier"
   ]
  },
  {
   "cell_type": "markdown",
   "metadata": {},
   "source": [
    "### Step-02: load or create dataset"
   ]
  },
  {
   "cell_type": "code",
   "execution_count": 2,
   "metadata": {},
   "outputs": [],
   "source": [
    "from sklearn.datasets import make_classification\n",
    "X,y = make_classification(\n",
    "    n_samples= 2000, # 2000 observations or rows data\n",
    "    n_features=3, # number of columns of features 3\n",
    "    n_redundant=1,\n",
    "    n_classes=2, # binaray target or label\n",
    "    random_state=999\n",
    ")\n"
   ]
  },
  {
   "cell_type": "code",
   "execution_count": null,
   "metadata": {},
   "outputs": [
    {
     "data": {
      "text/plain": [
       "array([[-2.0477851 , -0.82634317, -1.6265073 ],\n",
       "       [-0.08195231, -0.47137594, -0.32400012],\n",
       "       [ 1.5123157 ,  0.16704243,  0.93938482],\n",
       "       ...,\n",
       "       [-0.86108821, -1.68252468, -1.47255628],\n",
       "       [ 0.9739881 , -0.20835657,  0.41837431],\n",
       "       [-1.32433518,  1.43064986,  0.10887302]], shape=(2000, 3))"
      ]
     },
     "execution_count": 4,
     "metadata": {},
     "output_type": "execute_result"
    }
   ],
   "source": [
    "# check data\n",
    "X"
   ]
  },
  {
   "cell_type": "markdown",
   "metadata": {},
   "source": [
    "### Step-04: Split data into train test"
   ]
  },
  {
   "cell_type": "code",
   "execution_count": 6,
   "metadata": {},
   "outputs": [],
   "source": [
    "X_train,X_test,y_train,y_test = train_test_split(X,y,test_size=0.20,random_state=42)"
   ]
  },
  {
   "cell_type": "code",
   "execution_count": 7,
   "metadata": {},
   "outputs": [
    {
     "data": {
      "text/plain": [
       "(1600, 3)"
      ]
     },
     "execution_count": 7,
     "metadata": {},
     "output_type": "execute_result"
    }
   ],
   "source": [
    "X_train.shape"
   ]
  },
  {
   "cell_type": "code",
   "execution_count": 8,
   "metadata": {},
   "outputs": [
    {
     "data": {
      "text/plain": [
       "(1600,)"
      ]
     },
     "execution_count": 8,
     "metadata": {},
     "output_type": "execute_result"
    }
   ],
   "source": [
    "y_train.shape"
   ]
  },
  {
   "cell_type": "code",
   "execution_count": 9,
   "metadata": {},
   "outputs": [
    {
     "data": {
      "text/plain": [
       "(400, 3)"
      ]
     },
     "execution_count": 9,
     "metadata": {},
     "output_type": "execute_result"
    }
   ],
   "source": [
    "X_test.shape"
   ]
  },
  {
   "cell_type": "markdown",
   "metadata": {},
   "source": [
    "### Step-06: Choosing the Optimal Value of K "
   ]
  },
  {
   "cell_type": "code",
   "execution_count": 12,
   "metadata": {},
   "outputs": [
    {
     "data": {
      "text/plain": [
       "[0.79,\n",
       " 0.8,\n",
       " 0.8375,\n",
       " 0.8375,\n",
       " 0.835,\n",
       " 0.8425,\n",
       " 0.85,\n",
       " 0.8475,\n",
       " 0.8575,\n",
       " 0.86,\n",
       " 0.86,\n",
       " 0.865,\n",
       " 0.8625,\n",
       " 0.855,\n",
       " 0.855,\n",
       " 0.855,\n",
       " 0.8625,\n",
       " 0.8575,\n",
       " 0.865,\n",
       " 0.8675,\n",
       " 0.865,\n",
       " 0.8625,\n",
       " 0.87,\n",
       " 0.8675,\n",
       " 0.8725,\n",
       " 0.86,\n",
       " 0.8575,\n",
       " 0.86,\n",
       " 0.8625,\n",
       " 0.8675,\n",
       " 0.8625,\n",
       " 0.865,\n",
       " 0.8625,\n",
       " 0.86,\n",
       " 0.8625,\n",
       " 0.865,\n",
       " 0.8625,\n",
       " 0.865,\n",
       " 0.8675,\n",
       " 0.87]"
      ]
     },
     "execution_count": 12,
     "metadata": {},
     "output_type": "execute_result"
    }
   ],
   "source": [
    "accuracy = []\n",
    "for i in range(1,41):\n",
    "    knn = KNeighborsClassifier(n_neighbors=i)\n",
    "    knn.fit(X_train, y_train)\n",
    "    y_pred = knn.predict(X_test)\n",
    "    accuracy.append(accuracy_score(y_test, y_pred))\n",
    "accuracy"
   ]
  },
  {
   "cell_type": "code",
   "execution_count": 13,
   "metadata": {},
   "outputs": [
    {
     "data": {
      "text/plain": [
       "[<matplotlib.lines.Line2D at 0x722e39bb4e60>]"
      ]
     },
     "execution_count": 13,
     "metadata": {},
     "output_type": "execute_result"
    },
    {
     "data": {
      "image/png": "[encoded data removed]",
      "text/plain": [
       "<Figure size 640x480 with 1 Axes>"
      ]
     },
     "metadata": {},
     "output_type": "display_data"
    }
   ],
   "source": [
    "# make a plot for which k value accuracy best\n",
    "plt.plot(range(1,41),accuracy)"
   ]
  },
  {
   "cell_type": "code",
   "execution_count": 15,
   "metadata": {},
   "outputs": [
    {
     "data": {
      "text/plain": [
       "array([44.72135955,  1.73205081])"
      ]
     },
     "execution_count": 15,
     "metadata": {},
     "output_type": "execute_result"
    }
   ],
   "source": [
    "# another way to find k\n",
    "np.sqrt(X.shape)"
   ]
  },
  {
   "cell_type": "code",
   "execution_count": null,
   "metadata": {},
   "outputs": [],
   "source": [
    "# use knn classifier\n",
    "classifier = KNeighborsClassifier(n_neighbors=)"
   ]
  }
 ],
 "metadata": {
  "kernelspec": {
   "display_name": "Python 3",
   "language": "python",
   "name": "python3"
  },
  "language_info": {
   "codemirror_mode": {
    "name": "ipython",
    "version": 3
   },
   "file_extension": ".py",
   "mimetype": "text/x-python",
   "name": "python",
   "nbconvert_exporter": "python",
   "pygments_lexer": "ipython3",
   "version": "3.12.1"
  }
 },
 "nbformat": 4,
 "nbformat_minor": 2
}
