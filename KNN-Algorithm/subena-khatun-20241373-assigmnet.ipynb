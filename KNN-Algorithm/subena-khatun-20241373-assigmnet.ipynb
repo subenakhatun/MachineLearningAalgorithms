{
 "cells": [
  {
   "cell_type": "markdown",
   "metadata": {},
   "source": [
    "## Assignment on KNN\n",
    "#### Name: Subena khatun\n",
    "#### ID: 20241373\n",
    "#### Section: B, Batch: 13"
   ]
  },
  {
   "cell_type": "code",
   "execution_count": 35,
   "metadata": {},
   "outputs": [],
   "source": [
    "# necessary librairs\n",
    "import pandas as pd\n",
    "import numpy as np\n",
    "import matplotlib.pyplot as plt\n",
    "import seaborn as sns\n",
    "from scipy.spatial.distance import euclidean"
   ]
  },
  {
   "cell_type": "markdown",
   "metadata": {},
   "source": [
    "### Implement the Manual KNN Algorithm"
   ]
  },
  {
   "cell_type": "code",
   "execution_count": null,
   "metadata": {},
   "outputs": [],
   "source": [
    "# Import all librarirs\n",
    "import numpy as np\n",
    "import pandas as pd"
   ]
  },
  {
   "cell_type": "code",
   "execution_count": null,
   "metadata": {},
   "outputs": [],
   "source": [
    "# Load the dataset\n",
    "df = pd.read_csv(\"KNN.csv\")\n",
    "df.head()"
   ]
  },
  {
   "cell_type": "code",
   "execution_count": null,
   "metadata": {},
   "outputs": [],
   "source": [
    "# drop unnecessary columns or featurs\n",
    "df = df[['sepal Length', 'Sepal Width', 'Species']].dropna()\n",
    "df.head()"
   ]
  },
  {
   "cell_type": "code",
   "execution_count": null,
   "metadata": {},
   "outputs": [],
   "source": [
    "# Convert to feature matrix and label vector\n",
    "X = df[['sepal Length', 'Sepal Width']].values.tolist()\n",
    "y = df['Species'].values.tolist()"
   ]
  },
  {
   "cell_type": "code",
   "execution_count": null,
   "metadata": {},
   "outputs": [],
   "source": [
    "# Euclidean distance\n",
    "def euclidean_distance(point1, point2):\n",
    "    return np.sqrt(sum((p1 - p2) ** 2 for p1, p2 in zip(point1, point2)))"
   ]
  },
  {
   "cell_type": "code",
   "execution_count": null,
   "metadata": {},
   "outputs": [],
   "source": [
    "# Manual KNN classification function\n",
    "def knn_classify(X_train, y_train, X_new, k=3):\n",
    "    distances = [(euclidean_distance(X_new, x), label) for x, label in zip(X_train, y_train)]\n",
    "    distances.sort(key=lambda x: x[0])  \n",
    "    k_nearest = distances[:k]  # Select k nearest neighbors\n",
    "    \n",
    "    # Count majority class\n",
    "    class_counts = {}\n",
    "    for _, label in k_nearest:\n",
    "        class_counts[label] = class_counts.get(label, 0) + 1\n",
    "\n",
    "    # Return the most frequent class\n",
    "    return max(class_counts, key=class_counts.get)"
   ]
  },
  {
   "cell_type": "code",
   "execution_count": null,
   "metadata": {},
   "outputs": [],
   "source": [
    "# Split data into train (80%) and test (20%)\n",
    "train_size = int(len(X) * 0.8)\n",
    "X_train, y_train = X[:train_size], y[:train_size]\n",
    "X_test, y_test = X[train_size:], y[train_size:]"
   ]
  },
  {
   "cell_type": "code",
   "execution_count": null,
   "metadata": {},
   "outputs": [],
   "source": [
    "# Predict labels for test data\n",
    "k = 3\n",
    "predictions = [knn_classify(X_train, y_train, x, k) for x in X_test]\n",
    "\n",
    "# Evaluate accuracy\n",
    "accuracy = sum(1 for pred, actual in zip(predictions, y_test) if pred == actual) / len(y_test)\n",
    "\n",
    "# Print results\n",
    "for i, (pred, actual) in enumerate(zip(predictions, y_test)):\n",
    "    print(f\"Test Sample {i+1}: Predicted = {pred}, Actual = {actual}\")\n",
    "\n",
    "print(f\"\\nAccuracy: {accuracy * 100:.2f}%\")"
   ]
  },
  {
   "cell_type": "code",
   "execution_count": null,
   "metadata": {},
   "outputs": [],
   "source": []
  }
 ],
 "metadata": {
  "kernelspec": {
   "display_name": "Python 3",
   "language": "python",
   "name": "python3"
  },
  "language_info": {
   "codemirror_mode": {
    "name": "ipython",
    "version": 3
   },
   "file_extension": ".py",
   "mimetype": "text/x-python",
   "name": "python",
   "nbconvert_exporter": "python",
   "pygments_lexer": "ipython3",
   "version": "3.12.1"
  }
 },
 "nbformat": 4,
 "nbformat_minor": 2
}
